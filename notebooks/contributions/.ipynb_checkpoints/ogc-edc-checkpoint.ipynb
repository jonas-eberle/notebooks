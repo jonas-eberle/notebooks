{
 "cells": [
  {
   "cell_type": "code",
   "execution_count": 1,
   "metadata": {},
   "outputs": [
    {
     "ename": "HTTPError",
     "evalue": "404 Client Error: NOT FOUND for url: https://contributions-api.hub.eox.at/notebooks/ogc-edc",
     "output_type": "error",
     "traceback": [
      "\u001b[0;31m---------------------------------------------------------------------------\u001b[0m",
      "\u001b[0;31mHTTPError\u001b[0m                                 Traceback (most recent call last)",
      "\u001b[0;32m<ipython-input-1-9fdc763f014b>\u001b[0m in \u001b[0;36m<module>\u001b[0;34m\u001b[0m\n\u001b[1;32m      1\u001b[0m \u001b[0;32mfrom\u001b[0m \u001b[0medc\u001b[0m \u001b[0;32mimport\u001b[0m \u001b[0mprint_info\u001b[0m\u001b[0;34m\u001b[0m\u001b[0;34m\u001b[0m\u001b[0m\n\u001b[0;32m----> 2\u001b[0;31m \u001b[0mprint_info\u001b[0m\u001b[0;34m(\u001b[0m\u001b[0;34m\"ogc-edc\"\u001b[0m\u001b[0;34m)\u001b[0m\u001b[0;34m\u001b[0m\u001b[0;34m\u001b[0m\u001b[0m\n\u001b[0m",
      "\u001b[0;32m/opt/conda/lib/python3.7/site-packages/edc/__init__.py\u001b[0m in \u001b[0;36mprint_info\u001b[0;34m(notebook_id, dev)\u001b[0m\n\u001b[1;32m     83\u001b[0m     \u001b[0;34m\"\"\"Shows nice info for shared notebooks.\"\"\"\u001b[0m\u001b[0;34m\u001b[0m\u001b[0;34m\u001b[0m\u001b[0m\n\u001b[1;32m     84\u001b[0m     \u001b[0mrequirement_name_mapping\u001b[0m \u001b[0;34m=\u001b[0m \u001b[0m_get_requirement_name_mapping\u001b[0m\u001b[0;34m(\u001b[0m\u001b[0mdev\u001b[0m\u001b[0;34m=\u001b[0m\u001b[0mdev\u001b[0m\u001b[0;34m)\u001b[0m\u001b[0;34m\u001b[0m\u001b[0;34m\u001b[0m\u001b[0m\n\u001b[0;32m---> 85\u001b[0;31m     \u001b[0mnotebook\u001b[0m \u001b[0;34m=\u001b[0m \u001b[0m_get_notebook\u001b[0m\u001b[0;34m(\u001b[0m\u001b[0mnotebook_id\u001b[0m\u001b[0;34m,\u001b[0m \u001b[0mdev\u001b[0m\u001b[0;34m=\u001b[0m\u001b[0mdev\u001b[0m\u001b[0;34m)\u001b[0m\u001b[0;34m\u001b[0m\u001b[0;34m\u001b[0m\u001b[0m\n\u001b[0m\u001b[1;32m     86\u001b[0m \u001b[0;34m\u001b[0m\u001b[0m\n\u001b[1;32m     87\u001b[0m     requirements = [\n",
      "\u001b[0;32m/opt/conda/lib/python3.7/site-packages/edc/__init__.py\u001b[0m in \u001b[0;36m_get_notebook\u001b[0;34m(notebook_id, dev)\u001b[0m\n\u001b[1;32m     27\u001b[0m \u001b[0;32mdef\u001b[0m \u001b[0m_get_notebook\u001b[0m\u001b[0;34m(\u001b[0m\u001b[0mnotebook_id\u001b[0m\u001b[0;34m:\u001b[0m \u001b[0mstr\u001b[0m\u001b[0;34m,\u001b[0m \u001b[0mdev\u001b[0m\u001b[0;34m:\u001b[0m \u001b[0mbool\u001b[0m\u001b[0;34m)\u001b[0m\u001b[0;34m:\u001b[0m\u001b[0;34m\u001b[0m\u001b[0;34m\u001b[0m\u001b[0m\n\u001b[1;32m     28\u001b[0m     \u001b[0mresponse\u001b[0m \u001b[0;34m=\u001b[0m \u001b[0mrequests\u001b[0m\u001b[0;34m.\u001b[0m\u001b[0mget\u001b[0m\u001b[0;34m(\u001b[0m\u001b[0;34mf\"{CONTRIBUTIONS_API_URL['dev' if dev else 'prod']}/notebooks/{notebook_id}\"\u001b[0m\u001b[0;34m)\u001b[0m\u001b[0;34m\u001b[0m\u001b[0;34m\u001b[0m\u001b[0m\n\u001b[0;32m---> 29\u001b[0;31m     \u001b[0mresponse\u001b[0m\u001b[0;34m.\u001b[0m\u001b[0mraise_for_status\u001b[0m\u001b[0;34m(\u001b[0m\u001b[0;34m)\u001b[0m\u001b[0;34m\u001b[0m\u001b[0;34m\u001b[0m\u001b[0m\n\u001b[0m\u001b[1;32m     30\u001b[0m     \u001b[0;32mreturn\u001b[0m \u001b[0mresponse\u001b[0m\u001b[0;34m.\u001b[0m\u001b[0mjson\u001b[0m\u001b[0;34m(\u001b[0m\u001b[0;34m)\u001b[0m\u001b[0;34m\u001b[0m\u001b[0;34m\u001b[0m\u001b[0m\n\u001b[1;32m     31\u001b[0m \u001b[0;34m\u001b[0m\u001b[0m\n",
      "\u001b[0;32m/opt/conda/lib/python3.7/site-packages/requests/models.py\u001b[0m in \u001b[0;36mraise_for_status\u001b[0;34m(self)\u001b[0m\n\u001b[1;32m    939\u001b[0m \u001b[0;34m\u001b[0m\u001b[0m\n\u001b[1;32m    940\u001b[0m         \u001b[0;32mif\u001b[0m \u001b[0mhttp_error_msg\u001b[0m\u001b[0;34m:\u001b[0m\u001b[0;34m\u001b[0m\u001b[0;34m\u001b[0m\u001b[0m\n\u001b[0;32m--> 941\u001b[0;31m             \u001b[0;32mraise\u001b[0m \u001b[0mHTTPError\u001b[0m\u001b[0;34m(\u001b[0m\u001b[0mhttp_error_msg\u001b[0m\u001b[0;34m,\u001b[0m \u001b[0mresponse\u001b[0m\u001b[0;34m=\u001b[0m\u001b[0mself\u001b[0m\u001b[0;34m)\u001b[0m\u001b[0;34m\u001b[0m\u001b[0;34m\u001b[0m\u001b[0m\n\u001b[0m\u001b[1;32m    942\u001b[0m \u001b[0;34m\u001b[0m\u001b[0m\n\u001b[1;32m    943\u001b[0m     \u001b[0;32mdef\u001b[0m \u001b[0mclose\u001b[0m\u001b[0;34m(\u001b[0m\u001b[0mself\u001b[0m\u001b[0;34m)\u001b[0m\u001b[0;34m:\u001b[0m\u001b[0;34m\u001b[0m\u001b[0;34m\u001b[0m\u001b[0m\n",
      "\u001b[0;31mHTTPError\u001b[0m: 404 Client Error: NOT FOUND for url: https://contributions-api.hub.eox.at/notebooks/ogc-edc"
     ]
    }
   ],
   "source": [
    "from edc import print_info\n",
    "print_info(\"ogc-edc\")"
   ]
  },
  {
   "cell_type": "code",
   "execution_count": null,
   "metadata": {},
   "outputs": [],
   "source": [
    "from edc import setup_environment_variables\n",
    "setup_environment_variables()"
   ]
  },
  {
   "cell_type": "markdown",
   "metadata": {},
   "source": [
    "## Important notes\n",
    "This notebook requires:\n",
    "- OGC layer installed in EDC marketplace (with access url exposed as environment variable MY_OGC_EDC_URL)"
   ]
  },
  {
   "cell_type": "markdown",
   "metadata": {},
   "source": [
    "# OGC-EDC example calls"
   ]
  },
  {
   "cell_type": "markdown",
   "metadata": {},
   "source": [
    "This Notebook containes some WMs calls for the generated and configured EGC_OGC URL, all the presented samples where taken from \n",
    "pre-configured collecions and layers.\n",
    "\n",
    "The wms layers were simply requested using the python `requests` library, and the desired parameters were set to exploit *EDC-OGC* backend potentials\n",
    "\n",
    "\n",
    "Below is a comparison between a True Color image (Top) and a NDVI image (Bottom) of Sentinel 2 L1C"
   ]
  },
  {
   "cell_type": "code",
   "execution_count": null,
   "metadata": {},
   "outputs": [],
   "source": [
    "import requests\n",
    "from IPython.display import Image, display\n",
    "\n",
    "# api-endpoint \n",
    "URL = %env MY_OGC_EDC_URL\n",
    "  \n",
    "PARAMS_1 = {\n",
    "    'service': 'WMS',\n",
    "    'version': '1.3.0',\n",
    "    'request': 'GetMap',\n",
    "    'layers': 'S2L1C__TRUECOLOR',\n",
    "    'bbox': '-15.759545,46.269951,-15.698739,46.426163',\n",
    "    'crs': 'EPSG:4326',\n",
    "    'styles': '',\n",
    "    'width': 1000,\n",
    "    'height': 500,\n",
    "    'format': 'image/png',\n",
    "    'time' : '',\n",
    "}\n",
    "  \n",
    "PARAMS_2 = {\n",
    "    'service': 'WMS',\n",
    "    'version': '1.3.0',\n",
    "    'request': 'GetMap',\n",
    "    'layers': 'L8L1C__NDVI',\n",
    "    'bbox': '-15.759545,46.269951,-15.698739,46.426163',\n",
    "    'crs': 'EPSG:4326',\n",
    "    'styles': 'EOX NDVI Colorscale',\n",
    "    'width': 1000,\n",
    "    'height': 500,\n",
    "    'format': 'image/png',\n",
    "    'time' : '',\n",
    "}"
   ]
  },
  {
   "cell_type": "code",
   "execution_count": null,
   "metadata": {},
   "outputs": [],
   "source": [
    "r_1 = requests.get(url = URL, params = PARAMS_1, stream=all) \n",
    "r_2= requests.get(url = URL, params = PARAMS_2, stream=all)\n"
   ]
  },
  {
   "cell_type": "code",
   "execution_count": null,
   "metadata": {},
   "outputs": [],
   "source": [
    "\n",
    "display(Image(r_1.content))\n",
    "\n",
    "display(Image(r_2.content))\n"
   ]
  },
  {
   "cell_type": "markdown",
   "metadata": {},
   "source": [
    "\n",
    "\n",
    "\n",
    "users can set the required cloud coverage to filter out cloud, jsut by setting the cloud coverage parameter 'maxcc'.\n",
    "below is a comparison between a 100% cloud coverage image  and a 50% cloud coverage"
   ]
  },
  {
   "cell_type": "code",
   "execution_count": null,
   "metadata": {},
   "outputs": [],
   "source": [
    "PARAMS_3 = {\n",
    "    'service': 'WMS',\n",
    "    'version': '1.3.0',\n",
    "    'request': 'GetMap',\n",
    "    'layers': 'S2L1C__TRUECOLOR',\n",
    "    'bbox': '1466647.93,6036752.61,1517415.19,6052309.71',\n",
    "    'crs': 'EPSG:3857',\n",
    "    'styles': '',\n",
    "    'width': 1000,\n",
    "    'height': 300,\n",
    "    'format': 'image/png',\n",
    "    'time' : '',\n",
    "    'maxcc': '100'\n",
    "} \n",
    "\n",
    "PARAMS_4 = {\n",
    "    'service': 'WMS',\n",
    "    'version': '1.3.0',\n",
    "    'request': 'GetMap',\n",
    "    'layers': 'S2L1C__TRUECOLOR',\n",
    "    'bbox': '1466647.93,6036752.61,1517415.19,6052309.71',\n",
    "    'crs': 'EPSG:3857',\n",
    "    'styles': '',\n",
    "    'width': 1000,\n",
    "    'height': 300,\n",
    "    'format': 'image/png',\n",
    "    'time' : '',\n",
    "    'maxcc': '50'\n",
    "}  "
   ]
  },
  {
   "cell_type": "code",
   "execution_count": null,
   "metadata": {},
   "outputs": [],
   "source": [
    "a_1 = requests.get(url = URL, params = PARAMS_3, stream=all) \n",
    "a_2= requests.get(url = URL, params = PARAMS_4, stream=all) "
   ]
  },
  {
   "cell_type": "code",
   "execution_count": null,
   "metadata": {},
   "outputs": [],
   "source": [
    "display(Image(a_1.content))\n",
    "\n",
    "display(Image(a_2.content))\n"
   ]
  },
  {
   "cell_type": "markdown",
   "metadata": {},
   "source": [
    "below is S5 dataset"
   ]
  },
  {
   "cell_type": "code",
   "execution_count": null,
   "metadata": {},
   "outputs": [],
   "source": [
    "PARAMS_3 = {\n",
    "    'service': 'WMS',\n",
    "    'version': '1.3.0',\n",
    "    'request': 'GetMap',\n",
    "    'layers': 'S5PL2__NO2',\n",
    "    'bbox': '45,-11.25,56.25,0',\n",
    "    'crs': 'EPSG:4326',\n",
    "    'styles': '',\n",
    "    'width': 512,\n",
    "    'height': 512,\n",
    "    'format': 'image/png',\n",
    "    'time' : '2020-04-21/2020-04-26',\n",
    "    'maxcc': '100'\n",
    "}"
   ]
  },
  {
   "cell_type": "code",
   "execution_count": null,
   "metadata": {},
   "outputs": [],
   "source": [
    "a = requests.get(url = URL, params = PARAMS_3, stream=all) \n"
   ]
  },
  {
   "cell_type": "code",
   "execution_count": null,
   "metadata": {},
   "outputs": [],
   "source": [
    "display(Image(a.content))"
   ]
  }
 ],
 "metadata": {
  "kernelspec": {
   "display_name": "Python 3",
   "language": "python",
   "name": "python3"
  },
  "language_info": {
   "codemirror_mode": {
    "name": "ipython",
    "version": 3
   },
   "file_extension": ".py",
   "mimetype": "text/x-python",
   "name": "python",
   "nbconvert_exporter": "python",
   "pygments_lexer": "ipython3",
   "version": "3.7.6"
  },
  "properties": {
   "description": "Example calls demonstrating OGC-EDC capabilities",
   "id": "ogc-edc",
   "license": "MIT",
   "name": "OGC-EDC example calls",
   "requirements": [
    "eurodatacube"
   ],
   "tags": [
    "Getting started",
    "Open Standard"
   ],
   "tosAgree": true,
   "type": "Jupyter Notebook",
   "user_id": "418dfeac-15f0-4606-9edb-fd9eb722bf04",
   "version": "0.1.0"
  }
 },
 "nbformat": 4,
 "nbformat_minor": 4
}
